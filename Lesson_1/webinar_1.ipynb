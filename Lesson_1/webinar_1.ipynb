{
 "cells": [
  {
   "cell_type": "markdown",
   "metadata": {
    "id": "89mFQmjdo1gZ"
   },
   "source": [
    "# Вебинар 1. Введение, примеры задач, бизнес- и ML-метрики "
   ]
  },
  {
   "cell_type": "markdown",
   "metadata": {
    "id": "s26JxhrGo1ge"
   },
   "source": []
  },
  {
   "cell_type": "markdown",
   "metadata": {
    "id": "MJZwT8cSo1gi"
   },
   "source": [
    "-----"
   ]
  },
  {
   "cell_type": "markdown",
   "metadata": {
    "id": "R0sRGFuXo1gk"
   },
   "source": [
    "# 1. Введение и примеры задач"
   ]
  },
  {
   "cell_type": "markdown",
   "metadata": {
    "id": "z0ZCu4-Zo1gm"
   },
   "source": []
  },
  {
   "cell_type": "code",
   "execution_count": null,
   "metadata": {
    "id": "9qZt-QYrNqiM"
   },
   "outputs": [],
   "source": []
  },
  {
   "cell_type": "markdown",
   "metadata": {
    "id": "Wvs4ACKHo1go"
   },
   "source": [
    "----"
   ]
  },
  {
   "cell_type": "markdown",
   "metadata": {
    "id": "jGZbdDSto1gq"
   },
   "source": []
  },
  {
   "cell_type": "markdown",
   "metadata": {
    "id": "p4hQIpZ6o1gr"
   },
   "source": [
    "---"
   ]
  },
  {
   "cell_type": "markdown",
   "metadata": {
    "id": "EC6MY2VHo1gs"
   },
   "source": [
    "##  Постановка задачи\n",
    "\n",
    "*Задача рекомендаций* - предложить пользователю товары, которые ему \"понравятся\"\n",
    "\n",
    "Компоненты:\n",
    "    - Пользователи (users)\n",
    "    - Товары (items)\n",
    "    - Взаимодействия (interactions) - по ним понимаем, что товар \"понравился\""
   ]
  },
  {
   "cell_type": "markdown",
   "metadata": {
    "id": "9vjcDtI4o1gt"
   },
   "source": [
    "---"
   ]
  },
  {
   "cell_type": "markdown",
   "metadata": {
    "id": "F4lSmxSIo1g4"
   },
   "source": [
    "## Пользователи VS Товары\n",
    "\n"
   ]
  },
  {
   "cell_type": "markdown",
   "metadata": {
    "id": "xQCfDa7Ro1g6"
   },
   "source": [
    "**Кейс**: определить в каждой ситуации, что является пользователем, а что - товаром\n",
    "    \n",
    "    1. На сайте Кинопоиска порекомендовать интересные фильмы\n",
    "    2. На сайте hh.ru подобрать лучшие вакансии для соискателя вакансий\n",
    "    3. На сайте hh.ru найти похожие вакансии на ту, которую сейчас просматривает пользователь (\"вам также может понравиться\")\n",
    "    3. На сайте hh.ru подобрать лучших кандидатов для работодателя\n",
    "    \n",
    "*Пример ответа в чате:*\n",
    "    1. Пользователь (П) - фильм, Товар (T) - фильм\n",
    "    2. П - работодатель, Т - соискатель вакансий"
   ]
  },
  {
   "cell_type": "markdown",
   "metadata": {
    "id": "6XvwnlkTo1g7"
   },
   "source": [
    "---"
   ]
  },
  {
   "cell_type": "markdown",
   "metadata": {
    "id": "hTptz8fIo1g8"
   },
   "source": [
    "## Взаимодействия --> \"понравился товар\"\n",
    "\n"
   ]
  },
  {
   "cell_type": "markdown",
   "metadata": {
    "id": "trQ6RNEto1g9"
   },
   "source": [
    "---"
   ]
  },
  {
   "cell_type": "markdown",
   "metadata": {
    "id": "gyYgtrV3o1g-"
   },
   "source": [
    "## В чем отличие от классификации?"
   ]
  },
  {
   "cell_type": "code",
   "execution_count": null,
   "metadata": {
    "id": "MDr2G6YIo1g_"
   },
   "outputs": [],
   "source": [
    "import pandas as pd\n",
    "import numpy as np"
   ]
  },
  {
   "cell_type": "code",
   "execution_count": null,
   "metadata": {
    "colab": {
     "base_uri": "https://localhost:8080/",
     "height": 143
    },
    "id": "5NPXqJeco1hH",
    "outputId": "e52b2e5b-ccb6-4c28-8d5c-ebb6800fbbb0"
   },
   "outputs": [
    {
     "data": {
      "text/html": [
       "\n",
       "  <div id=\"df-2512bcd8-d86d-4338-9ea5-800ec318cbd7\">\n",
       "    <div class=\"colab-df-container\">\n",
       "      <div>\n",
       "<style scoped>\n",
       "    .dataframe tbody tr th:only-of-type {\n",
       "        vertical-align: middle;\n",
       "    }\n",
       "\n",
       "    .dataframe tbody tr th {\n",
       "        vertical-align: top;\n",
       "    }\n",
       "\n",
       "    .dataframe thead th {\n",
       "        text-align: right;\n",
       "    }\n",
       "</style>\n",
       "<table border=\"1\" class=\"dataframe\">\n",
       "  <thead>\n",
       "    <tr style=\"text-align: right;\">\n",
       "      <th></th>\n",
       "      <th>user</th>\n",
       "      <th>item</th>\n",
       "      <th>purchase_fact</th>\n",
       "    </tr>\n",
       "  </thead>\n",
       "  <tbody>\n",
       "    <tr>\n",
       "      <th>0</th>\n",
       "      <td>Иван</td>\n",
       "      <td>Хлеб Бородинский</td>\n",
       "      <td>1</td>\n",
       "    </tr>\n",
       "    <tr>\n",
       "      <th>1</th>\n",
       "      <td>Иван</td>\n",
       "      <td>Хлеб Белый</td>\n",
       "      <td>0</td>\n",
       "    </tr>\n",
       "    <tr>\n",
       "      <th>2</th>\n",
       "      <td>Василий</td>\n",
       "      <td>Йогурт Epica</td>\n",
       "      <td>1</td>\n",
       "    </tr>\n",
       "  </tbody>\n",
       "</table>\n",
       "</div>\n",
       "      <button class=\"colab-df-convert\" onclick=\"convertToInteractive('df-2512bcd8-d86d-4338-9ea5-800ec318cbd7')\"\n",
       "              title=\"Convert this dataframe to an interactive table.\"\n",
       "              style=\"display:none;\">\n",
       "        \n",
       "  <svg xmlns=\"http://www.w3.org/2000/svg\" height=\"24px\"viewBox=\"0 0 24 24\"\n",
       "       width=\"24px\">\n",
       "    <path d=\"M0 0h24v24H0V0z\" fill=\"none\"/>\n",
       "    <path d=\"M18.56 5.44l.94 2.06.94-2.06 2.06-.94-2.06-.94-.94-2.06-.94 2.06-2.06.94zm-11 1L8.5 8.5l.94-2.06 2.06-.94-2.06-.94L8.5 2.5l-.94 2.06-2.06.94zm10 10l.94 2.06.94-2.06 2.06-.94-2.06-.94-.94-2.06-.94 2.06-2.06.94z\"/><path d=\"M17.41 7.96l-1.37-1.37c-.4-.4-.92-.59-1.43-.59-.52 0-1.04.2-1.43.59L10.3 9.45l-7.72 7.72c-.78.78-.78 2.05 0 2.83L4 21.41c.39.39.9.59 1.41.59.51 0 1.02-.2 1.41-.59l7.78-7.78 2.81-2.81c.8-.78.8-2.07 0-2.86zM5.41 20L4 18.59l7.72-7.72 1.47 1.35L5.41 20z\"/>\n",
       "  </svg>\n",
       "      </button>\n",
       "      \n",
       "  <style>\n",
       "    .colab-df-container {\n",
       "      display:flex;\n",
       "      flex-wrap:wrap;\n",
       "      gap: 12px;\n",
       "    }\n",
       "\n",
       "    .colab-df-convert {\n",
       "      background-color: #E8F0FE;\n",
       "      border: none;\n",
       "      border-radius: 50%;\n",
       "      cursor: pointer;\n",
       "      display: none;\n",
       "      fill: #1967D2;\n",
       "      height: 32px;\n",
       "      padding: 0 0 0 0;\n",
       "      width: 32px;\n",
       "    }\n",
       "\n",
       "    .colab-df-convert:hover {\n",
       "      background-color: #E2EBFA;\n",
       "      box-shadow: 0px 1px 2px rgba(60, 64, 67, 0.3), 0px 1px 3px 1px rgba(60, 64, 67, 0.15);\n",
       "      fill: #174EA6;\n",
       "    }\n",
       "\n",
       "    [theme=dark] .colab-df-convert {\n",
       "      background-color: #3B4455;\n",
       "      fill: #D2E3FC;\n",
       "    }\n",
       "\n",
       "    [theme=dark] .colab-df-convert:hover {\n",
       "      background-color: #434B5C;\n",
       "      box-shadow: 0px 1px 3px 1px rgba(0, 0, 0, 0.15);\n",
       "      filter: drop-shadow(0px 1px 2px rgba(0, 0, 0, 0.3));\n",
       "      fill: #FFFFFF;\n",
       "    }\n",
       "  </style>\n",
       "\n",
       "      <script>\n",
       "        const buttonEl =\n",
       "          document.querySelector('#df-2512bcd8-d86d-4338-9ea5-800ec318cbd7 button.colab-df-convert');\n",
       "        buttonEl.style.display =\n",
       "          google.colab.kernel.accessAllowed ? 'block' : 'none';\n",
       "\n",
       "        async function convertToInteractive(key) {\n",
       "          const element = document.querySelector('#df-2512bcd8-d86d-4338-9ea5-800ec318cbd7');\n",
       "          const dataTable =\n",
       "            await google.colab.kernel.invokeFunction('convertToInteractive',\n",
       "                                                     [key], {});\n",
       "          if (!dataTable) return;\n",
       "\n",
       "          const docLinkHtml = 'Like what you see? Visit the ' +\n",
       "            '<a target=\"_blank\" href=https://colab.research.google.com/notebooks/data_table.ipynb>data table notebook</a>'\n",
       "            + ' to learn more about interactive tables.';\n",
       "          element.innerHTML = '';\n",
       "          dataTable['output_type'] = 'display_data';\n",
       "          await google.colab.output.renderOutput(dataTable, element);\n",
       "          const docLink = document.createElement('div');\n",
       "          docLink.innerHTML = docLinkHtml;\n",
       "          element.appendChild(docLink);\n",
       "        }\n",
       "      </script>\n",
       "    </div>\n",
       "  </div>\n",
       "  "
      ],
      "text/plain": [
       "      user              item  purchase_fact\n",
       "0     Иван  Хлеб Бородинский              1\n",
       "1     Иван        Хлеб Белый              0\n",
       "2  Василий      Йогурт Epica              1"
      ]
     },
     "execution_count": 3,
     "metadata": {},
     "output_type": "execute_result"
    }
   ],
   "source": [
    "pd.DataFrame([['Иван', 'Хлеб Бородинский', 1],\n",
    "             ['Иван', 'Хлеб Белый', 0],\n",
    "             ['Василий', 'Йогурт Epica', 1]], columns=['user', 'item', 'purchase_fact'])"
   ]
  },
  {
   "cell_type": "markdown",
   "metadata": {
    "id": "qpT9cc8Ao1hP"
   },
   "source": [
    "Постойте, ведь можно добавить фичи на user (средний чек, кол-во покупок в категориях и т.д), \n",
    "на item (цена, кол-во продаж в неделю и т.l), и решать задачу классификации. В чем отличие RecSys от классификации?\n",
    "\n",
    " - Много предсказаний для 1 user (extreme classification)\n",
    " - Гораздо больший объем данных: 100K users, 10K items --> 1B предсказаний\n",
    " - Большинство товаров user никогда не видел --> Не взаимодействовал --> 0 не значит \"не понравился\"\n",
    " - Нет явного таргета. Не понятно, что значит \"(не) понравился\"\n",
    " - Feedback loop\n",
    " - Иногдаь важен порядок рекомендаций"
   ]
  },
  {
   "cell_type": "code",
   "execution_count": null,
   "metadata": {
    "colab": {
     "base_uri": "https://localhost:8080/",
     "height": 238
    },
    "id": "PI5Vw8z9o1hQ",
    "outputId": "4c0abe02-8065-40d0-c3a0-dbef8adb6d09"
   },
   "outputs": [
    {
     "data": {
      "text/html": [
       "\n",
       "  <div id=\"df-f208897f-f721-46f7-95b0-ce97613747d8\">\n",
       "    <div class=\"colab-df-container\">\n",
       "      <div>\n",
       "<style scoped>\n",
       "    .dataframe tbody tr th:only-of-type {\n",
       "        vertical-align: middle;\n",
       "    }\n",
       "\n",
       "    .dataframe tbody tr th {\n",
       "        vertical-align: top;\n",
       "    }\n",
       "\n",
       "    .dataframe thead th {\n",
       "        text-align: right;\n",
       "    }\n",
       "</style>\n",
       "<table border=\"1\" class=\"dataframe\">\n",
       "  <thead>\n",
       "    <tr style=\"text-align: right;\">\n",
       "      <th></th>\n",
       "      <th>user</th>\n",
       "      <th>item</th>\n",
       "      <th>purchase_fact</th>\n",
       "    </tr>\n",
       "  </thead>\n",
       "  <tbody>\n",
       "    <tr>\n",
       "      <th>0</th>\n",
       "      <td>Иван</td>\n",
       "      <td>Хлеб Бородинский</td>\n",
       "      <td>1</td>\n",
       "    </tr>\n",
       "    <tr>\n",
       "      <th>1</th>\n",
       "      <td>Иван</td>\n",
       "      <td>Хлеб Белый</td>\n",
       "      <td>0</td>\n",
       "    </tr>\n",
       "    <tr>\n",
       "      <th>2</th>\n",
       "      <td>Иван</td>\n",
       "      <td>Йогурт Epica</td>\n",
       "      <td>?</td>\n",
       "    </tr>\n",
       "    <tr>\n",
       "      <th>3</th>\n",
       "      <td>Василий</td>\n",
       "      <td>Хлеб Бородинский</td>\n",
       "      <td>?</td>\n",
       "    </tr>\n",
       "    <tr>\n",
       "      <th>4</th>\n",
       "      <td>Василий</td>\n",
       "      <td>Хлеб Белый</td>\n",
       "      <td>?</td>\n",
       "    </tr>\n",
       "    <tr>\n",
       "      <th>5</th>\n",
       "      <td>Василий</td>\n",
       "      <td>Йогурт Epica</td>\n",
       "      <td>1</td>\n",
       "    </tr>\n",
       "  </tbody>\n",
       "</table>\n",
       "</div>\n",
       "      <button class=\"colab-df-convert\" onclick=\"convertToInteractive('df-f208897f-f721-46f7-95b0-ce97613747d8')\"\n",
       "              title=\"Convert this dataframe to an interactive table.\"\n",
       "              style=\"display:none;\">\n",
       "        \n",
       "  <svg xmlns=\"http://www.w3.org/2000/svg\" height=\"24px\"viewBox=\"0 0 24 24\"\n",
       "       width=\"24px\">\n",
       "    <path d=\"M0 0h24v24H0V0z\" fill=\"none\"/>\n",
       "    <path d=\"M18.56 5.44l.94 2.06.94-2.06 2.06-.94-2.06-.94-.94-2.06-.94 2.06-2.06.94zm-11 1L8.5 8.5l.94-2.06 2.06-.94-2.06-.94L8.5 2.5l-.94 2.06-2.06.94zm10 10l.94 2.06.94-2.06 2.06-.94-2.06-.94-.94-2.06-.94 2.06-2.06.94z\"/><path d=\"M17.41 7.96l-1.37-1.37c-.4-.4-.92-.59-1.43-.59-.52 0-1.04.2-1.43.59L10.3 9.45l-7.72 7.72c-.78.78-.78 2.05 0 2.83L4 21.41c.39.39.9.59 1.41.59.51 0 1.02-.2 1.41-.59l7.78-7.78 2.81-2.81c.8-.78.8-2.07 0-2.86zM5.41 20L4 18.59l7.72-7.72 1.47 1.35L5.41 20z\"/>\n",
       "  </svg>\n",
       "      </button>\n",
       "      \n",
       "  <style>\n",
       "    .colab-df-container {\n",
       "      display:flex;\n",
       "      flex-wrap:wrap;\n",
       "      gap: 12px;\n",
       "    }\n",
       "\n",
       "    .colab-df-convert {\n",
       "      background-color: #E8F0FE;\n",
       "      border: none;\n",
       "      border-radius: 50%;\n",
       "      cursor: pointer;\n",
       "      display: none;\n",
       "      fill: #1967D2;\n",
       "      height: 32px;\n",
       "      padding: 0 0 0 0;\n",
       "      width: 32px;\n",
       "    }\n",
       "\n",
       "    .colab-df-convert:hover {\n",
       "      background-color: #E2EBFA;\n",
       "      box-shadow: 0px 1px 2px rgba(60, 64, 67, 0.3), 0px 1px 3px 1px rgba(60, 64, 67, 0.15);\n",
       "      fill: #174EA6;\n",
       "    }\n",
       "\n",
       "    [theme=dark] .colab-df-convert {\n",
       "      background-color: #3B4455;\n",
       "      fill: #D2E3FC;\n",
       "    }\n",
       "\n",
       "    [theme=dark] .colab-df-convert:hover {\n",
       "      background-color: #434B5C;\n",
       "      box-shadow: 0px 1px 3px 1px rgba(0, 0, 0, 0.15);\n",
       "      filter: drop-shadow(0px 1px 2px rgba(0, 0, 0, 0.3));\n",
       "      fill: #FFFFFF;\n",
       "    }\n",
       "  </style>\n",
       "\n",
       "      <script>\n",
       "        const buttonEl =\n",
       "          document.querySelector('#df-f208897f-f721-46f7-95b0-ce97613747d8 button.colab-df-convert');\n",
       "        buttonEl.style.display =\n",
       "          google.colab.kernel.accessAllowed ? 'block' : 'none';\n",
       "\n",
       "        async function convertToInteractive(key) {\n",
       "          const element = document.querySelector('#df-f208897f-f721-46f7-95b0-ce97613747d8');\n",
       "          const dataTable =\n",
       "            await google.colab.kernel.invokeFunction('convertToInteractive',\n",
       "                                                     [key], {});\n",
       "          if (!dataTable) return;\n",
       "\n",
       "          const docLinkHtml = 'Like what you see? Visit the ' +\n",
       "            '<a target=\"_blank\" href=https://colab.research.google.com/notebooks/data_table.ipynb>data table notebook</a>'\n",
       "            + ' to learn more about interactive tables.';\n",
       "          element.innerHTML = '';\n",
       "          dataTable['output_type'] = 'display_data';\n",
       "          await google.colab.output.renderOutput(dataTable, element);\n",
       "          const docLink = document.createElement('div');\n",
       "          docLink.innerHTML = docLinkHtml;\n",
       "          element.appendChild(docLink);\n",
       "        }\n",
       "      </script>\n",
       "    </div>\n",
       "  </div>\n",
       "  "
      ],
      "text/plain": [
       "      user              item purchase_fact\n",
       "0     Иван  Хлеб Бородинский             1\n",
       "1     Иван        Хлеб Белый             0\n",
       "2     Иван      Йогурт Epica             ?\n",
       "3  Василий  Хлеб Бородинский             ?\n",
       "4  Василий        Хлеб Белый             ?\n",
       "5  Василий      Йогурт Epica             1"
      ]
     },
     "execution_count": 4,
     "metadata": {},
     "output_type": "execute_result"
    }
   ],
   "source": [
    "pd.DataFrame([['Иван', 'Хлеб Бородинский', 1],\n",
    "              ['Иван', 'Хлеб Белый', 0],\n",
    "              ['Иван', 'Йогурт Epica', \"?\"],\n",
    "              ['Василий', 'Хлеб Бородинский', \"?\"],\n",
    "              ['Василий', 'Хлеб Белый', \"?\"],\n",
    "              ['Василий', 'Йогурт Epica', 1]], columns=['user', 'item', 'purchase_fact'])"
   ]
  },
  {
   "cell_type": "markdown",
   "metadata": {
    "id": "qjBbrZqIo1hX"
   },
   "source": [
    "----"
   ]
  },
  {
   "cell_type": "markdown",
   "metadata": {
    "id": "40b-1kBbo1hY"
   },
   "source": [
    "## Основные типы задач:\n",
    "    \n",
    "**Рекомендация топ-К товаров**: Дан список товаров. Рекомендовать пользователю K товаров, которые ему понравятся\n",
    "    - e-mail рассылки (М.Видео, Hoff, Пятерочка)\n",
    "    - push-уведомления (Delivery Club, HeadHunter, Виктория)\n",
    "    - Рекомендации в отдельном окне на сайте (vk, okko)\n",
    "\n",
    "**Ранжирование товаров**: Дан список товаров. Нужно его отранжировать в порядке убывания интереса для пользователя\n",
    "    - Ранжирование каталога товаров (Wildberries, Lamoda)\n",
    "    - Ранжирование ленты (vk, Я.Дзен)\n",
    "    - Ранжирование поисковой выдачи (Яндекс, Гугл)\n",
    "    - Ранжирование \"каруселей\" товаров (Delivery Club, Я.Еда)\n",
    "    \n",
    "**Поиск похожих товаров**: Дан 1 товар. Нужно найти наиболее похожие на него товары\n",
    "    - \"Вам также может понравиться\" (Ozon, Циан)\n",
    "    - Похожим пользователям понравилось (vk)\n",
    "    - Вы можете быть знакомы (vk, facebook)\n",
    "    \n",
    "**Рекомендация дополнителдьного товара**. Дан 1 товар. Найти товары, которые покупают вместе с этим товаром\n",
    "    - С этим товаром часто покупают (Я.Маркет, Ozon, М.Видео)\n",
    "    \n",
    "   \n",
    "---\n",
    "На 7 вебинаре мы разберем рекомендательные системы из HeadHunter, Я.Дзен и vk"
   ]
  },
  {
   "cell_type": "markdown",
   "metadata": {
    "id": "4qVx3IG0o1hZ"
   },
   "source": [
    "---"
   ]
  },
  {
   "cell_type": "markdown",
   "metadata": {
    "id": "8VrZhsIbo1ha"
   },
   "source": [
    "# 2. ML-mетрики качества"
   ]
  },
  {
   "cell_type": "markdown",
   "metadata": {
    "id": "0dnPDNLYo1hc"
   },
   "source": [
    "*Хороши ли рекомендации, предлагаемые моделью?*  \n",
    "Обычно считаются для каждого юзера, затем усредняются по юзерам"
   ]
  },
  {
   "cell_type": "markdown",
   "metadata": {
    "id": "VrlXLSNao1he"
   },
   "source": [
    "Представим, что в магазине всего 10 товаров"
   ]
  },
  {
   "cell_type": "code",
   "execution_count": null,
   "metadata": {
    "id": "bxqcDo_vo1hh"
   },
   "outputs": [],
   "source": [
    "recommended_list = [143, 156, 1134, 991, 27, 1543, 3345, 533, 11, 43] #id товаров\n",
    "bought_list = [521, 32, 143, 991]"
   ]
  },
  {
   "cell_type": "markdown",
   "metadata": {
    "id": "IZ6mlwcSo1hn"
   },
   "source": [
    "### 1. Hit rate\n",
    "\n",
    "Hit rate = был ли хотя бы 1 релевантный товар среди рекомендованных\n",
    "\n",
    "- Иногда применяется, когда продаются достаточно дрогие товары (например, бытовая техника) \n",
    "\n",
    "----\n",
    "Hit rate = (был ли хотя бы 1 релевантный товар среди рекомендованных)   \n",
    "\n",
    "Hit rate@k = (был ли хотя бы 1 релевантный товар среди топ-k рекомендованных)"
   ]
  },
  {
   "cell_type": "code",
   "execution_count": null,
   "metadata": {
    "id": "UdC9moeIo1ho"
   },
   "outputs": [],
   "source": [
    "def hit_rate(recommended_list, bought_list):\n",
    "    \n",
    "    bought_list = np.array(bought_list)\n",
    "    recommended_list = np.array(recommended_list)\n",
    "    \n",
    "    flags = np.isin(bought_list, recommended_list)\n",
    "    \n",
    "    hit_rate = (flags.sum() > 0) * 1\n",
    "    \n",
    "    return hit_rate\n",
    "\n",
    "\n",
    "def hit_rate_at_k(recommended_list, bought_list, k=5):\n",
    "    # your_code\n",
    "    bought_list = np.array(bought_list)\n",
    "    recommended_list = np.array(recommended_list[:k])\n",
    "    \n",
    "    flags = np.isin(bought_list, recommended_list)\n",
    "    \n",
    "    hit_rate_at_k = (flags.sum() > 0) * 1\n",
    "    \n",
    "    return hit_rate_at_k"
   ]
  },
  {
   "cell_type": "code",
   "execution_count": null,
   "metadata": {
    "colab": {
     "base_uri": "https://localhost:8080/"
    },
    "id": "cQXLlorio1hs",
    "outputId": "aa6f8f7b-faaf-427f-bd56-ea8e65fd2ec3"
   },
   "outputs": [
    {
     "data": {
      "text/plain": [
       "1"
      ]
     },
     "execution_count": 8,
     "metadata": {},
     "output_type": "execute_result"
    }
   ],
   "source": [
    "hit_rate(recommended_list, bought_list)"
   ]
  },
  {
   "cell_type": "code",
   "execution_count": null,
   "metadata": {
    "colab": {
     "base_uri": "https://localhost:8080/"
    },
    "id": "Y-7XD75z0rY-",
    "outputId": "7c141e11-7a56-489e-981b-c063cce659a8"
   },
   "outputs": [
    {
     "data": {
      "text/plain": [
       "1"
      ]
     },
     "execution_count": 11,
     "metadata": {},
     "output_type": "execute_result"
    }
   ],
   "source": [
    "hit_rate_at_k(recommended_list, bought_list)"
   ]
  },
  {
   "cell_type": "markdown",
   "metadata": {
    "id": "iwXCUigno1hy"
   },
   "source": [
    "### 2. Precision\n",
    "\n",
    "*Precision* - доля релевантных товаров среди рекомендованных = Какой % рекомендованных товаров  юзер купил\n",
    "\n",
    "- Пожалуй, самая приближенная к бизнес-метрикам и самая популярная метрика\n",
    "\n",
    "---\n",
    "\n",
    "Precision= (# of recommended items that are relevant) / (# of recommended items)  \n",
    "\n",
    "Precision@k = (# of recommended items @k that are relevant) / (# of recommended items @k)\n",
    "\n",
    "Money Precision@k = (revenue of recommended items @k that are relevant) / (revenue of recommended items @k)  \n",
    "\n",
    "**Note:** Обычно k в precision@k достаточно невелико (5-20) и определяется из бизнес-логики. Например, 5 товаров в e-mail рассылке, 20 ответов на первой странице google и т.д"
   ]
  },
  {
   "cell_type": "markdown",
   "metadata": {
    "id": "WvSzvvmMo1hz"
   },
   "source": [
    "Красная рыба - 400 руб  \n",
    "Молоко - 60 руб  \n",
    "Хлеб = 40 руб  \n",
    "Гречка = 40 руб  \n",
    "Шоколад = 90 руб  \n",
    "\n",
    "------  \n",
    "Варенье - 240 руб  \n",
    "...  \n",
    "\n",
    "**Case 1**  \n",
    "prices_resommended = [400, 60, 40, 40 , 90]  \n",
    "flags = [1, 0, 0, 0 , 1]  \n",
    "\n",
    "$precison@5 = \\frac{1 + 0 + 0 +0 + 1}{1+1+1+1+1} = 40\\%$  \n",
    "$money precision@5 = \\frac{1*400 + 0*60 + ... + 1*90}{1*400 + 1*60 + ... + 1*90} = 77.7\\%$  \n",
    "\n",
    "  \n",
    "**Case 2**   \n",
    "prices_resommended = [400, 60, 40, 40 , 90]  \n",
    "flags = [0, 1, 0, 0 , 1]  \n",
    "\n",
    "$precison@5 = \\frac{0 + 1 + 0 +0 + 1}{1+1+1+1+1} = 40\\%$  \n",
    "$money precision@5 = \\frac{0*400 + 1*60 + ... + 1*90}{1*400 + 1*60 + ... + 1*90} = 15.8\\%$"
   ]
  },
  {
   "cell_type": "code",
   "execution_count": null,
   "metadata": {
    "id": "bDZRoYivo1h1"
   },
   "outputs": [],
   "source": [
    "def precision(recommended_list, bought_list):\n",
    "    \n",
    "    bought_list = np.array(bought_list)\n",
    "    recommended_list = np.array(recommended_list)\n",
    "    \n",
    "    flags = np.isin(bought_list, recommended_list)\n",
    "    \n",
    "    precision = flags.sum() / len(recommended_list)\n",
    "    \n",
    "    return precision\n",
    "\n",
    "\n",
    "def precision_at_k(recommended_list, bought_list, k=5):\n",
    "    \n",
    "    bought_list = np.array(bought_list)\n",
    "    recommended_list = np.array(recommended_list)\n",
    "    \n",
    "    bought_list = bought_list  # Тут нет [:k] !!\n",
    "    recommended_list = recommended_list[:k]\n",
    "    \n",
    "    flags = np.isin(bought_list, recommended_list)\n",
    "    \n",
    "    precision = flags.sum() / len(recommended_list)\n",
    "    \n",
    "    \n",
    "    return precision\n",
    "\n",
    "\n",
    "def money_precision_at_k(recommended_list, bought_list, prices_recommended, k=5):\n",
    "        \n",
    "    # your_code\n",
    "    # Лучше считать через скалярное произведение, а не цикл\n",
    "\n",
    "    recommend_list = np.array(recommended_list)[:k]\n",
    "    prices_recommended = np.array(prices_recommended)[:k]\n",
    "    \n",
    "    flags = np.isin(recommend_list, bought_list)\n",
    "    \n",
    "    precision = np.dot(flags, prices_recommended) / prices_recommended.sum()\n",
    "    \n",
    "    return precision"
   ]
  },
  {
   "cell_type": "code",
   "execution_count": null,
   "metadata": {
    "id": "rfL2QSH1o1h5",
    "outputId": "684a2322-c696-4183-8ff9-bc3bec2be345"
   },
   "outputs": [
    {
     "data": {
      "text/plain": [
       "0.2"
      ]
     },
     "execution_count": 16,
     "metadata": {
      "tags": []
     },
     "output_type": "execute_result"
    }
   ],
   "source": [
    "precision(recommended_list, bought_list)"
   ]
  },
  {
   "cell_type": "code",
   "execution_count": null,
   "metadata": {
    "id": "CyA_YiPLo1h9",
    "outputId": "be47973e-8017-40ad-8b3b-7bf5a6d963df"
   },
   "outputs": [
    {
     "data": {
      "text/plain": [
       "0.4"
      ]
     },
     "execution_count": 17,
     "metadata": {
      "tags": []
     },
     "output_type": "execute_result"
    }
   ],
   "source": [
    "precision_at_k(recommended_list, bought_list, k=5)"
   ]
  },
  {
   "cell_type": "code",
   "execution_count": null,
   "metadata": {
    "id": "35CJV2C7o1iB",
    "outputId": "f0a6558e-af43-400c-d42c-c65197d3336d"
   },
   "outputs": [
    {
     "data": {
      "text/plain": [
       "0.3333333333333333"
      ]
     },
     "execution_count": 18,
     "metadata": {
      "tags": []
     },
     "output_type": "execute_result"
    }
   ],
   "source": [
    "precision_at_k(recommended_list, bought_list, k=3)"
   ]
  },
  {
   "cell_type": "code",
   "execution_count": null,
   "metadata": {
    "colab": {
     "base_uri": "https://localhost:8080/"
    },
    "id": "D_afDQjC2SS3",
    "outputId": "c6a44b00-338e-48d4-834c-c520364ee63f"
   },
   "outputs": [
    {
     "data": {
      "text/plain": [
       "0.6984126984126984"
      ]
     },
     "execution_count": 15,
     "metadata": {},
     "output_type": "execute_result"
    }
   ],
   "source": [
    "prices_resommended = [400, 60, 40, 40 , 90]\n",
    "money_precision_at_k(recommended_list, bought_list, prices_resommended)"
   ]
  },
  {
   "cell_type": "markdown",
   "metadata": {
    "id": "NfVd3dnCo1iN"
   },
   "source": [
    "### 3. Recall\n",
    "\n",
    "*Recall* - доля рекомендованных товаров среди релевантных = Какой % купленных товаров был среди рекомендованных\n",
    "\n",
    "- Обычно используется для моделей пре-фильтрации товаров (убрать те товары, которые точно не будем рекомендовать)\n",
    "\n",
    "---\n",
    "\n",
    "Recall= (# of recommended items that are relevant) / (# of relevant items)  \n",
    "\n",
    "Recall@k = (# of recommended items @k that are relevant) / (# of relevant items)\n",
    "\n",
    "Money Recall@k = (revenue of recommended items @k that are relevant) / (revenue of relevant items)  \n",
    "\n",
    "    \n",
    "  \n",
    "**Note:** в recall@k число k обычно достаточно большое (50-200), больше чем покупок у среднестатистического юзера"
   ]
  },
  {
   "cell_type": "code",
   "execution_count": null,
   "metadata": {
    "id": "g2sl_HTfo1iS"
   },
   "outputs": [],
   "source": [
    "def recall(recommended_list, bought_list):\n",
    "    \n",
    "    bought_list = np.array(bought_list)\n",
    "    recommended_list = np.array(recommended_list)\n",
    "    \n",
    "    flags = np.isin(bought_list, recommended_list)\n",
    "    \n",
    "    recall = flags.sum() / len(bought_list)\n",
    "    \n",
    "    return recall\n",
    "\n",
    "\n",
    "def recall_at_k(recommended_list, bought_list, k=5):\n",
    "    \n",
    "    # your_code\n",
    "    bought_list = np.array(bought_list)\n",
    "    recommended_list = np.array(recommended_list)[:k]\n",
    "    \n",
    "    flags = np.isin(bought_list, recommended_list)\n",
    "    \n",
    "    recall = flags.sum() / len(bought_list)\n",
    "    \n",
    "    return recall\n",
    "\n",
    "\n",
    "def money_recall_at_k(recommended_list, bought_list, prices_recommended, prices_bought, k=5):\n",
    "    \n",
    "    # your_code\n",
    "    bought_list = np.array(bought_list)\n",
    "    prices_bought = np.array(prices_bought)\n",
    "    \n",
    "    recommended_list = np.array(recommended_list)[:k]\n",
    "    prices_recommended = np.array(prices_recommended)[:k]\n",
    "    \n",
    "    flags = np.isin(recommended_list, bought_list)\n",
    "    recall =  np.dot(flags, prices_recommended)/prices_bought.sum()\n",
    "    \n",
    "    return recall"
   ]
  },
  {
   "cell_type": "code",
   "execution_count": null,
   "metadata": {
    "id": "kd4I_xqvo1iX",
    "outputId": "2e90ab42-c647-4087-c536-454d10f5f305"
   },
   "outputs": [
    {
     "data": {
      "text/plain": [
       "0.5"
      ]
     },
     "execution_count": 20,
     "metadata": {
      "tags": []
     },
     "output_type": "execute_result"
    }
   ],
   "source": [
    "recall(recommended_list, bought_list)"
   ]
  },
  {
   "cell_type": "code",
   "execution_count": null,
   "metadata": {
    "colab": {
     "base_uri": "https://localhost:8080/"
    },
    "id": "82DpdzwT4Tcy",
    "outputId": "96b3d852-de80-49dc-ecad-51e328f5ee8a"
   },
   "outputs": [
    {
     "data": {
      "text/plain": [
       "1.2222222222222223"
      ]
     },
     "execution_count": 17,
     "metadata": {},
     "output_type": "execute_result"
    }
   ],
   "source": [
    "prices_bought = [200, 50, 10, 20 , 80]\n",
    "money_recall_at_k(recommended_list, bought_list, prices_resommended, prices_bought)"
   ]
  },
  {
   "cell_type": "markdown",
   "metadata": {
    "id": "A-9Go3EOo1ib"
   },
   "source": [
    "---"
   ]
  },
  {
   "cell_type": "markdown",
   "metadata": {
    "id": "p06Ri8-go1ic"
   },
   "source": [
    "# Метрики ранжирования"
   ]
  },
  {
   "cell_type": "markdown",
   "metadata": {
    "id": "Rnd4DCp5o1id"
   },
   "source": [
    "Если важен порядок рекомендаций. Подробнее можно почитать [здесь](https://habr.com/ru/company/econtenta/blog/303458/). Формулы в статье могут несколько отличаться от формул в лекции "
   ]
  },
  {
   "cell_type": "markdown",
   "metadata": {
    "id": "F95YT0wwo1id"
   },
   "source": [
    "## AP@k\n",
    "AP@k - average precision at k\n",
    "\n",
    "$$AP@k = \\frac{1}{r} \\sum{[recommended_{relevant_i}] * precision@k}$$\n",
    "\n",
    "- r - кол-во релевантный среди рекомендованных\n",
    "- Суммируем по всем релевантным товарам\n",
    "- Зависит от порядка реокмендаций"
   ]
  },
  {
   "cell_type": "code",
   "execution_count": null,
   "metadata": {
    "id": "HfAfQgGRo1ie"
   },
   "outputs": [],
   "source": [
    "def ap_k(recommended_list, bought_list, k=5):\n",
    "    \n",
    "    bought_list = np.array(bought_list)\n",
    "    recommended_list = np.array(recommended_list)\n",
    "    \n",
    "    flags = np.isin(recommended_list, bought_list)\n",
    "    \n",
    "    if sum(flags) == 0:\n",
    "        return 0\n",
    "    \n",
    "    sum_ = 0\n",
    "    for i in range(1, k+1):\n",
    "        \n",
    "        if flags[i] == True:\n",
    "            p_k = precision_at_k(recommended_list, bought_list, k=i)\n",
    "            sum_ += p_k\n",
    "            \n",
    "    result = sum_ / sum(flags)\n",
    "    \n",
    "    return result"
   ]
  },
  {
   "cell_type": "code",
   "execution_count": null,
   "metadata": {
    "id": "iBa1KbKio1il",
    "outputId": "ef35fc0c-ed47-45df-ab7c-81b5f46477d9"
   },
   "outputs": [
    {
     "data": {
      "text/plain": [
       "0.16666666666666666"
      ]
     },
     "execution_count": 62,
     "metadata": {
      "tags": []
     },
     "output_type": "execute_result"
    }
   ],
   "source": [
    "ap_k(recommended_list, bought_list, k=5)"
   ]
  },
  {
   "cell_type": "markdown",
   "metadata": {
    "id": "GyKVp_A_o1ip"
   },
   "source": [
    "### MAP@k\n",
    "\n",
    "MAP@k (Mean Average Precision@k)  \n",
    "Среднее AP@k по всем юзерам\n",
    "- Показывает средневзвешенную точность рекомендаций\n",
    "\n",
    "$$MAP@k = \\frac{1}{|U|} \\sum_u{AP_k}$$\n",
    "  \n",
    "|U| - кол-во юзеров"
   ]
  },
  {
   "cell_type": "code",
   "execution_count": null,
   "metadata": {
    "id": "heZq-3_Vo1iq"
   },
   "outputs": [],
   "source": [
    "def map_k(recommended_list, bought_list, k=5):\n",
    "    \n",
    "    # your_code\n",
    "    count = len(bought_list)\n",
    "    \n",
    "    ap_k_ = [ap_k(recommended_list[i], bought_list[i], k) for i in np.arange(count)]\n",
    "    \n",
    "    result = sum(ap_k_)/count\n",
    "    return result"
   ]
  },
  {
   "cell_type": "code",
   "execution_count": null,
   "metadata": {
    "colab": {
     "base_uri": "https://localhost:8080/"
    },
    "id": "8lfLP-ax5Wps",
    "outputId": "e3ef350a-dad4-48c3-911f-d2c5db47effa"
   },
   "outputs": [
    {
     "data": {
      "text/plain": [
       "0.16666666666666666"
      ]
     },
     "execution_count": 23,
     "metadata": {},
     "output_type": "execute_result"
    }
   ],
   "source": [
    "recommended_list = [[143, 156, 1134, 991, 27, 1543, 3345, 533, 11, 43], [143, 156, 1134, 991, 27, 1543, 3345, 533, 11, 43]] #id товаров\n",
    "bought_list = [[521, 32, 143, 991], [521, 32, 143, 991]]\n",
    "map_k(recommended_list, bought_list)"
   ]
  },
  {
   "cell_type": "markdown",
   "metadata": {
    "id": "Ziy893rxo1iw"
   },
   "source": [
    "### AUC@k\n",
    "AUC для первых k наблюдений  \n",
    "- Можно посчитать как sklern.metrics.roc_auc_score для топ-k предсказаний\n",
    "- Показывает долю верно отранжированных товаров"
   ]
  },
  {
   "cell_type": "markdown",
   "metadata": {
    "id": "-aRUBub7o1ix"
   },
   "source": [
    "### NDCG@k\n",
    "Normalized discounted cumulative gain\n",
    "\n",
    "$$DCG = \\frac{1}{|r|} \\sum_u{\\frac{[bought fact]}{discount(i)}}$$  \n",
    "\n",
    "$discount(i) = 1$ if $i <= 2$,   \n",
    "$discount(i) = log_2(i)$ if $i > 2$\n",
    "\n",
    "\n",
    "(!) Считаем для первых k рекоммендаций   \n",
    "(!) - существуют вариации с другими $discount(i)$  \n",
    "i - ранк рекомендованного товара  \n",
    "|r| - кол-во рекомендованных товаров \n",
    "\n",
    "$$NDCG = \\frac{DCG}{ideal DCG}$$\n"
   ]
  },
  {
   "cell_type": "code",
   "execution_count": null,
   "metadata": {
    "id": "njQIUE-xo1iy"
   },
   "outputs": [],
   "source": [
    "recommended_list = [143, 156, 1134, 991, 27, 1543, 3345, 533, 11, 43] #id товаров\n",
    "bought_list = [521, 32, 143, 991]"
   ]
  },
  {
   "cell_type": "markdown",
   "metadata": {
    "id": "zHpCD4lKo1i1"
   },
   "source": [
    "$DCG@5 = \\frac{1}{5}*(1 / 1 + 0 / 2 + 0 / log(3) + 1 / log(4) + 0 / log(5))$  \n",
    "$ideal DCG@5 = \\frac{1}{5}*(1 / 1 + 1 / 2 + 1 / log(3) + 1 / log(4) + 1 / log(5))$  \n",
    "\n",
    "$NDCG = \\frac{DCG}{ideal DCG}$"
   ]
  },
  {
   "cell_type": "markdown",
   "metadata": {
    "id": "T7Y-Jtcdo1i6"
   },
   "source": [
    "### MRR@k\n",
    "Mean Reciprocal Rank\n",
    "\n",
    "- Считаем для первых k рекоммендаций\n",
    "- Найти ранк первого релевантного предсказания $k_u$\n",
    "- Посчитать reciprocal rank = $\\frac{1}{k_u}$\n",
    "\n",
    "$$MRR = mean(\\frac{1}{k_u})$$"
   ]
  },
  {
   "cell_type": "code",
   "execution_count": null,
   "metadata": {
    "id": "i56NVR0Qo1i6"
   },
   "outputs": [],
   "source": [
    "def reciprocal_rank(recommended_list, bought_list):\n",
    "    # your_code\n",
    "    flags = np.isin(recommended_list, bought_list)\n",
    "    if sum(flags) == 0:\n",
    "        return 0\n",
    "    \n",
    "    sum_ = 0\n",
    "    count = 0\n",
    "    for i in range(1, len(flags)+1):\n",
    "        if flags[i-1]:\n",
    "            sum_ += 1/i\n",
    "            count += 1\n",
    "    result = sum_ / count\n",
    "    return result"
   ]
  },
  {
   "cell_type": "code",
   "execution_count": null,
   "metadata": {
    "colab": {
     "base_uri": "https://localhost:8080/"
    },
    "id": "gEYkGqyY71cW",
    "outputId": "ec1c6e5c-2c50-43e4-f357-586f0d8439c9"
   },
   "outputs": [
    {
     "data": {
      "text/plain": [
       "0.625"
      ]
     },
     "execution_count": 28,
     "metadata": {},
     "output_type": "execute_result"
    }
   ],
   "source": [
    "reciprocal_rank(recommended_list, bought_list)    "
   ]
  },
  {
   "cell_type": "markdown",
   "metadata": {
    "id": "DlPGKta8o1i_"
   },
   "source": [
    "# 3. Связь бизнес-метрик, ML-метрик и функции потерь(loss)"
   ]
  },
  {
   "cell_type": "markdown",
   "metadata": {
    "id": "uOUGeoTco1i_"
   },
   "source": [
    "- **loss** - то, что оптимизирует модель (RMSE - Root Mean Squared Error)\n",
    "- **ML-метрика** - то, как мы измеряем качество на test (money precision@5)\n",
    "- **Бизнес-метрика** - то, что хочет оптимизировать бизнес (выручка)\n",
    "\n",
    "В идеале loss = ML-метрика = бизнес-метрика, но это возмонжо в очень редких случаях\n",
    "\n",
    "Надеемся, что:  \n",
    "    *Оптимизация loss --> рост ML-метрик --> рост бизнес-метрик*"
   ]
  },
  {
   "cell_type": "markdown",
   "metadata": {
    "id": "P9bMXLKro1jA"
   },
   "source": [
    "### Пример: рекомендательная система товаров на сайте  \n",
    "      \n",
    "На сайте есть баннер, на котором мы можем разместить 5 товаров. Надо порекомендовать эти 5 товаров персонально каждому юзеру\n",
    "\n",
    "*Шаг 1: Определим бизнес-метрику*  \n",
    "Бизнес хочет максимизировать выручку --> бизнес-метрика - **Выручка**  \n",
    "\n",
    "*Шаг 2: Разложим ее на составляющие*  \n",
    "Выручка =   \n",
    "       Средний чек * кол-во покупок =   \n",
    "       Средний чек * (число юзеров * конверсия из захода на сайт в заказ) =\n",
    "       Число юзеров * (Средний чек * конверсия из захода на сайт в заказ)\n",
    "       \n",
    "Рекомендательная система влияет только на (Средний чек * конверсия из захода на сайт в заказ).   \n",
    "Хорошим приближением этого является **money precision@5** - ML-метрика\n",
    "\n",
    "*Шаг 3: loss*  \n",
    "Это существенно сложнее. Персонализированные ML-модели не умеют напрямую оптимизировать конверсию. Стандартный loss - **RMSE**. Можно для начала попробовать его. \n",
    "\n",
    "P.S. Если вы хотите приблизить RMSE к money precision@5, то можно посчитать weighted RMSE, где вес каждого наблюдения = стоимость товара.   \n",
    "P.S.S. Про другие виды loss будет рассказано в курсе"
   ]
  }
 ],
 "metadata": {
  "colab": {
   "collapsed_sections": [],
   "name": "webinar_1.ipynb",
   "provenance": []
  },
  "kernelspec": {
   "display_name": "Python 3",
   "language": "python",
   "name": "python3"
  },
  "language_info": {
   "codemirror_mode": {
    "name": "ipython",
    "version": 3
   },
   "file_extension": ".py",
   "mimetype": "text/x-python",
   "name": "python",
   "nbconvert_exporter": "python",
   "pygments_lexer": "ipython3",
   "version": "3.8.8"
  }
 },
 "nbformat": 4,
 "nbformat_minor": 1
}
